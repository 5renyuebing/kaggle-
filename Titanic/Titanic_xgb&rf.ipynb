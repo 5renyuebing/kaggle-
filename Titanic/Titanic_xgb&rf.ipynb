{
 "cells": [
  {
   "cell_type": "code",
   "execution_count": 19,
   "metadata": {},
   "outputs": [
    {
     "name": "stdout",
     "output_type": "stream",
     "text": [
      "<class 'pandas.core.frame.DataFrame'>\n",
      "RangeIndex: 891 entries, 0 to 890\n",
      "Data columns (total 12 columns):\n",
      "PassengerId    891 non-null int64\n",
      "Survived       891 non-null int64\n",
      "Pclass         891 non-null int64\n",
      "Name           891 non-null object\n",
      "Sex            891 non-null object\n",
      "Age            714 non-null float64\n",
      "SibSp          891 non-null int64\n",
      "Parch          891 non-null int64\n",
      "Ticket         891 non-null object\n",
      "Fare           891 non-null float64\n",
      "Cabin          204 non-null object\n",
      "Embarked       889 non-null object\n",
      "dtypes: float64(2), int64(5), object(5)\n",
      "memory usage: 83.6+ KB\n"
     ]
    }
   ],
   "source": [
    "import pandas as pd\n",
    "titanic=pd.read_csv(\"C:\\\\Users\\\\LCL\\\\Desktop\\\\sklearn_tensorflow\\\\kaggle\\\\Projects\\\\Titanic\\\\train.csv\")\n",
    "test=pd.read_csv(\"C:\\\\Users\\\\LCL\\\\Desktop\\\\sklearn_tensorflow\\\\kaggle\\\\Projects\\\\Titanic\\\\test.csv\")\n",
    "label=titanic[\"Survived\"]\n",
    "#查看数据缺失值\n",
    "titanic.info()"
   ]
  },
  {
   "cell_type": "code",
   "execution_count": 20,
   "metadata": {},
   "outputs": [
    {
     "data": {
      "text/plain": [
       "<matplotlib.figure.Figure at 0x1b724bc8dd8>"
      ]
     },
     "metadata": {},
     "output_type": "display_data"
    },
    {
     "data": {
      "image/png": "[encoded data removed]",
      "text/plain": [
       "<matplotlib.figure.Figure at 0x1b724b380f0>"
      ]
     },
     "metadata": {},
     "output_type": "display_data"
    },
    {
     "data": {
      "text/plain": [
       "<matplotlib.figure.Figure at 0x1b724ba29e8>"
      ]
     },
     "metadata": {},
     "output_type": "display_data"
    },
    {
     "data": {
      "image/png": "[encoded data removed]",
      "text/plain": [
       "<matplotlib.figure.Figure at 0x1b724ba87f0>"
      ]
     },
     "metadata": {},
     "output_type": "display_data"
    },
    {
     "data": {
      "text/plain": [
       "<matplotlib.figure.Figure at 0x1b7248a7eb8>"
      ]
     },
     "metadata": {},
     "output_type": "display_data"
    },
    {
     "data": {
      "image/png": "[encoded data removed]",
      "text/plain": [
       "<matplotlib.figure.Figure at 0x1b7248ac4a8>"
      ]
     },
     "metadata": {},
     "output_type": "display_data"
    },
    {
     "data": {
      "text/plain": [
       "<matplotlib.figure.Figure at 0x1b724b38eb8>"
      ]
     },
     "metadata": {},
     "output_type": "display_data"
    },
    {
     "data": {
      "image/png": "[encoded data removed]",
      "text/plain": [
       "<matplotlib.figure.Figure at 0x1b7248744e0>"
      ]
     },
     "metadata": {},
     "output_type": "display_data"
    }
   ],
   "source": [
    "#查看各属性与结果关系\n",
    "import matplotlib.pyplot as plt\n",
    "plt.rcParams['font.sans-serif'] = ['SimHei']\n",
    "plt.rcParams['axes.unicode_minus'] = False\n",
    "\n",
    "plt.figure(1)\n",
    "Survived_0 = titanic.Pclass[titanic.Survived == 0].value_counts() #Pclass是船舱等级，改变这个属性可得到其他属性与Survived的关系\n",
    "Survived_1 = titanic.Pclass[titanic.Survived == 1].value_counts()\n",
    "df=pd.DataFrame({'获救':Survived_1, '未获救':Survived_0})\n",
    "df.plot(kind='bar', stacked=True)\n",
    "plt.xlabel(\"Pclass\")\n",
    "plt.show()\n",
    "\n",
    "plt.figure(2)\n",
    "Survived_0 = titanic.Embarked[titanic.Survived == 0].value_counts() #改为Embarked，检查港口位置与Survived的关系\n",
    "Survived_1 = titanic.Embarked[titanic.Survived == 1].value_counts()\n",
    "df=pd.DataFrame({'获救':Survived_1, '未获救':Survived_0})\n",
    "df.plot(kind='bar', stacked=True)\n",
    "plt.xlabel(\"Embarked\")\n",
    "plt.show()\n",
    "\n",
    "plt.figure(3)\n",
    "Survived_0 = titanic.SibSp[titanic.Survived == 0].value_counts()\n",
    "Survived_1 = titanic.SibSp[titanic.Survived == 1].value_counts()\n",
    "df=pd.DataFrame({'获救':Survived_1, '未获救':Survived_0})\n",
    "df.plot(kind='bar', stacked=True)\n",
    "plt.xlabel(\"SibSp\")\n",
    "plt.show()\n",
    "\n",
    "plt.figure(4)\n",
    "Survived_cabin = titanic.Survived[pd.notnull(titanic.Cabin)].value_counts()\n",
    "Survived_nocabin = titanic.Survived[pd.isnull(titanic.Cabin)].value_counts()\n",
    "df=pd.DataFrame({'有':Survived_cabin, '无':Survived_nocabin}).transpose()\n",
    "df.plot(kind='bar', stacked=True)\n",
    "plt.xlabel(\"Cabin有无\") \n",
    "plt.ylabel(\"人数\")\n",
    "plt.show()"
   ]
  },
  {
   "cell_type": "code",
   "execution_count": 21,
   "metadata": {},
   "outputs": [
    {
     "name": "stderr",
     "output_type": "stream",
     "text": [
      "C:\\ProgramData\\Anaconda3\\lib\\site-packages\\ipykernel_launcher.py:13: SettingWithCopyWarning: \n",
      "A value is trying to be set on a copy of a slice from a DataFrame\n",
      "\n",
      "See the caveats in the documentation: http://pandas.pydata.org/pandas-docs/stable/indexing.html#indexing-view-versus-copy\n",
      "  del sys.path[0]\n",
      "C:\\ProgramData\\Anaconda3\\lib\\site-packages\\ipykernel_launcher.py:20: SettingWithCopyWarning: \n",
      "A value is trying to be set on a copy of a slice from a DataFrame\n",
      "\n",
      "See the caveats in the documentation: http://pandas.pydata.org/pandas-docs/stable/indexing.html#indexing-view-versus-copy\n",
      "C:\\ProgramData\\Anaconda3\\lib\\site-packages\\ipykernel_launcher.py:28: SettingWithCopyWarning: \n",
      "A value is trying to be set on a copy of a slice from a DataFrame\n",
      "\n",
      "See the caveats in the documentation: http://pandas.pydata.org/pandas-docs/stable/indexing.html#indexing-view-versus-copy\n",
      "C:\\ProgramData\\Anaconda3\\lib\\site-packages\\ipykernel_launcher.py:35: SettingWithCopyWarning: \n",
      "A value is trying to be set on a copy of a slice from a DataFrame\n",
      "\n",
      "See the caveats in the documentation: http://pandas.pydata.org/pandas-docs/stable/indexing.html#indexing-view-versus-copy\n",
      "C:\\ProgramData\\Anaconda3\\lib\\site-packages\\ipykernel_launcher.py:48: SettingWithCopyWarning: \n",
      "A value is trying to be set on a copy of a slice from a DataFrame\n",
      "\n",
      "See the caveats in the documentation: http://pandas.pydata.org/pandas-docs/stable/indexing.html#indexing-view-versus-copy\n",
      "C:\\ProgramData\\Anaconda3\\lib\\site-packages\\ipykernel_launcher.py:51: SettingWithCopyWarning: \n",
      "A value is trying to be set on a copy of a slice from a DataFrame\n",
      "\n",
      "See the caveats in the documentation: http://pandas.pydata.org/pandas-docs/stable/indexing.html#indexing-view-versus-copy\n"
     ]
    }
   ],
   "source": [
    "#处理Age属性缺失值\n",
    "\n",
    "#从Name属性中获取Title\n",
    "titanic['Title']=titanic['Name'].apply(lambda x: x.split(',')[1].split('.')[0].strip())  \n",
    "test['Title']=test['Name'].apply(lambda x: x.split(',')[1].split('.')[0].strip())\n",
    "\n",
    "#将Title为Miss的一部分样本的Title改为Girl\n",
    "t1=titanic.loc[titanic.Age.notnull()]\n",
    "t2=t1.loc[t1.Title==\"Miss\"]\n",
    "t3=t2.loc[t2.Age<=14]\n",
    "for i in range(len(titanic)):\n",
    "    if titanic.PassengerId[i] in t3.PassengerId.values:\n",
    "        titanic.Title[i]=\"Girl\"\n",
    "\n",
    "t1=titanic.loc[titanic.Age.isnull()]\n",
    "t2=t1.loc[t1.Title==\"Miss\"]\n",
    "t3=t2.loc[t2.Parch!=0]\n",
    "for i in range(len(titanic)):\n",
    "    if titanic.PassengerId[i] in t3.PassengerId.values:\n",
    "        titanic.Title[i]=\"Girl\"\n",
    "\n",
    "#对测试集进行同样的处理\n",
    "t1=test.loc[test.Age.notnull()]\n",
    "t2=t1.loc[t1.Title==\"Miss\"]\n",
    "t3=t2.loc[t2.Age<=14]\n",
    "for i in range(len(test)):\n",
    "    if test.PassengerId[i] in t3.PassengerId.values:\n",
    "        test.Title[i]=\"Girl\"\n",
    "\n",
    "t1=test.loc[test.Age.isnull()]\n",
    "t2=t1.loc[t1.Title==\"Miss\"]\n",
    "t3=t2.loc[t2.Parch!=0]\n",
    "for i in range(len(test)):\n",
    "    if test.PassengerId[i] in t3.PassengerId.values:\n",
    "        test.Title[i]=\"Girl\"\n",
    "        \n",
    "#根据Title中位数补充缺失值\n",
    "Tit=['Mr','Miss','Mrs','Master','Girl',\"Dr\",\"Rev\"]\n",
    "for i in Tit:\n",
    "    t1=titanic.loc[titanic.Age.isnull()]\n",
    "    t2=t1.loc[titanic.Title==i]\n",
    "    t3=titanic.loc[titanic.Age.notnull()]\n",
    "    t4=t3.loc[titanic.Title==i]\n",
    "    t5=test.loc[test.Age.isnull()]\n",
    "    t6=t5.loc[test.Title==i]\n",
    "    for i in range(len(titanic)):\n",
    "        if titanic.PassengerId[i] in t2.PassengerId.values:\n",
    "            titanic.Age[i]=t4[\"Age\"].median()\n",
    "    for i in range(len(test)):\n",
    "        if test.PassengerId[i] in t6.PassengerId.values:\n",
    "            test.Age[i]=t4[\"Age\"].median()\n",
    "            \n",
    "#补充未被涉及到的Age\n",
    "from sklearn.preprocessing import Imputer\n",
    "imputer=Imputer()\n",
    "imputer.fit(test[[\"Age\"]])\n",
    "test.loc[(test.Age.isnull()), 'Age']=imputer.statistics_[0]"
   ]
  },
  {
   "cell_type": "code",
   "execution_count": 22,
   "metadata": {},
   "outputs": [],
   "source": [
    "#将Cabin转换为0/1属性\n",
    "\n",
    "def set_Cabin_type(df):\n",
    "    #使用df.loc[ (df.Cabin.notnull()), 'Cabin' ]找出相应样本的相应属性，进行修改\n",
    "    #df.loc[(df.Cabin.notnull()), 'Cabin']返回一个Series\n",
    "    #age_df[age_df.Age.notnull()]返回一个dataframe\n",
    "    df.loc[ (df.Cabin.notnull()), 'Cabin' ] = 1\n",
    "    df.loc[ (df.Cabin.isnull()), 'Cabin' ] = 0\n",
    "    return df\n",
    "\n",
    "titanic = set_Cabin_type(titanic)\n",
    "test = set_Cabin_type(test)"
   ]
  },
  {
   "cell_type": "code",
   "execution_count": 24,
   "metadata": {},
   "outputs": [
    {
     "name": "stderr",
     "output_type": "stream",
     "text": [
      "C:\\ProgramData\\Anaconda3\\lib\\site-packages\\pandas\\core\\ops.py:816: FutureWarning: elementwise comparison failed; returning scalar instead, but in the future will perform elementwise comparison\n",
      "  result = getattr(x, name)(y)\n"
     ]
    },
    {
     "ename": "TypeError",
     "evalue": "invalid type comparison",
     "output_type": "error",
     "traceback": [
      "\u001b[1;31m---------------------------------------------------------------------------\u001b[0m",
      "\u001b[1;31mTypeError\u001b[0m                                 Traceback (most recent call last)",
      "\u001b[1;32m<ipython-input-24-fafa1680fc28>\u001b[0m in \u001b[0;36m<module>\u001b[1;34m()\u001b[0m\n\u001b[0;32m      1\u001b[0m \u001b[1;31m#将Sex转换为数值属性\u001b[0m\u001b[1;33m\u001b[0m\u001b[1;33m\u001b[0m\u001b[0m\n\u001b[1;32m----> 2\u001b[1;33m \u001b[0mtitanic\u001b[0m\u001b[1;33m.\u001b[0m\u001b[0mloc\u001b[0m\u001b[1;33m[\u001b[0m\u001b[0mtitanic\u001b[0m\u001b[1;33m.\u001b[0m\u001b[0mSex\u001b[0m\u001b[1;33m==\u001b[0m\u001b[1;34m\"male\"\u001b[0m\u001b[1;33m,\u001b[0m\u001b[1;34m\"Sex\"\u001b[0m\u001b[1;33m]\u001b[0m\u001b[1;33m=\u001b[0m\u001b[1;36m1\u001b[0m\u001b[1;33m\u001b[0m\u001b[0m\n\u001b[0m\u001b[0;32m      3\u001b[0m \u001b[0mtitanic\u001b[0m\u001b[1;33m.\u001b[0m\u001b[0mloc\u001b[0m\u001b[1;33m[\u001b[0m\u001b[0mtitanic\u001b[0m\u001b[1;33m.\u001b[0m\u001b[0mSex\u001b[0m\u001b[1;33m==\u001b[0m\u001b[1;34m\"female\"\u001b[0m\u001b[1;33m,\u001b[0m\u001b[1;34m\"Sex\"\u001b[0m\u001b[1;33m]\u001b[0m\u001b[1;33m=\u001b[0m\u001b[1;36m0\u001b[0m\u001b[1;33m\u001b[0m\u001b[0m\n\u001b[0;32m      4\u001b[0m \u001b[0mtest\u001b[0m\u001b[1;33m.\u001b[0m\u001b[0mloc\u001b[0m\u001b[1;33m[\u001b[0m\u001b[0mtest\u001b[0m\u001b[1;33m.\u001b[0m\u001b[0mSex\u001b[0m\u001b[1;33m==\u001b[0m\u001b[1;34m\"male\"\u001b[0m\u001b[1;33m,\u001b[0m\u001b[1;34m\"Sex\"\u001b[0m\u001b[1;33m]\u001b[0m\u001b[1;33m=\u001b[0m\u001b[1;36m1\u001b[0m\u001b[1;33m\u001b[0m\u001b[0m\n\u001b[0;32m      5\u001b[0m \u001b[0mtest\u001b[0m\u001b[1;33m.\u001b[0m\u001b[0mloc\u001b[0m\u001b[1;33m[\u001b[0m\u001b[0mtest\u001b[0m\u001b[1;33m.\u001b[0m\u001b[0mSex\u001b[0m\u001b[1;33m==\u001b[0m\u001b[1;34m\"female\"\u001b[0m\u001b[1;33m,\u001b[0m\u001b[1;34m\"Sex\"\u001b[0m\u001b[1;33m]\u001b[0m\u001b[1;33m=\u001b[0m\u001b[1;36m0\u001b[0m\u001b[1;33m\u001b[0m\u001b[0m\n",
      "\u001b[1;32mC:\\ProgramData\\Anaconda3\\lib\\site-packages\\pandas\\core\\ops.py\u001b[0m in \u001b[0;36mwrapper\u001b[1;34m(self, other, axis)\u001b[0m\n\u001b[0;32m    877\u001b[0m \u001b[1;33m\u001b[0m\u001b[0m\n\u001b[0;32m    878\u001b[0m             \u001b[1;32mwith\u001b[0m \u001b[0mnp\u001b[0m\u001b[1;33m.\u001b[0m\u001b[0merrstate\u001b[0m\u001b[1;33m(\u001b[0m\u001b[0mall\u001b[0m\u001b[1;33m=\u001b[0m\u001b[1;34m'ignore'\u001b[0m\u001b[1;33m)\u001b[0m\u001b[1;33m:\u001b[0m\u001b[1;33m\u001b[0m\u001b[0m\n\u001b[1;32m--> 879\u001b[1;33m                 \u001b[0mres\u001b[0m \u001b[1;33m=\u001b[0m \u001b[0mna_op\u001b[0m\u001b[1;33m(\u001b[0m\u001b[0mvalues\u001b[0m\u001b[1;33m,\u001b[0m \u001b[0mother\u001b[0m\u001b[1;33m)\u001b[0m\u001b[1;33m\u001b[0m\u001b[0m\n\u001b[0m\u001b[0;32m    880\u001b[0m             \u001b[1;32mif\u001b[0m \u001b[0mis_scalar\u001b[0m\u001b[1;33m(\u001b[0m\u001b[0mres\u001b[0m\u001b[1;33m)\u001b[0m\u001b[1;33m:\u001b[0m\u001b[1;33m\u001b[0m\u001b[0m\n\u001b[0;32m    881\u001b[0m                 raise TypeError('Could not compare {typ} type with Series'\n",
      "\u001b[1;32mC:\\ProgramData\\Anaconda3\\lib\\site-packages\\pandas\\core\\ops.py\u001b[0m in \u001b[0;36mna_op\u001b[1;34m(x, y)\u001b[0m\n\u001b[0;32m    816\u001b[0m                     \u001b[0mresult\u001b[0m \u001b[1;33m=\u001b[0m \u001b[0mgetattr\u001b[0m\u001b[1;33m(\u001b[0m\u001b[0mx\u001b[0m\u001b[1;33m,\u001b[0m \u001b[0mname\u001b[0m\u001b[1;33m)\u001b[0m\u001b[1;33m(\u001b[0m\u001b[0my\u001b[0m\u001b[1;33m)\u001b[0m\u001b[1;33m\u001b[0m\u001b[0m\n\u001b[0;32m    817\u001b[0m                 \u001b[1;32mif\u001b[0m \u001b[0mresult\u001b[0m \u001b[1;32mis\u001b[0m \u001b[0mNotImplemented\u001b[0m\u001b[1;33m:\u001b[0m\u001b[1;33m\u001b[0m\u001b[0m\n\u001b[1;32m--> 818\u001b[1;33m                     \u001b[1;32mraise\u001b[0m \u001b[0mTypeError\u001b[0m\u001b[1;33m(\u001b[0m\u001b[1;34m\"invalid type comparison\"\u001b[0m\u001b[1;33m)\u001b[0m\u001b[1;33m\u001b[0m\u001b[0m\n\u001b[0m\u001b[0;32m    819\u001b[0m             \u001b[1;32mexcept\u001b[0m \u001b[0mAttributeError\u001b[0m\u001b[1;33m:\u001b[0m\u001b[1;33m\u001b[0m\u001b[0m\n\u001b[0;32m    820\u001b[0m                 \u001b[0mresult\u001b[0m \u001b[1;33m=\u001b[0m \u001b[0mop\u001b[0m\u001b[1;33m(\u001b[0m\u001b[0mx\u001b[0m\u001b[1;33m,\u001b[0m \u001b[0my\u001b[0m\u001b[1;33m)\u001b[0m\u001b[1;33m\u001b[0m\u001b[0m\n",
      "\u001b[1;31mTypeError\u001b[0m: invalid type comparison"
     ]
    }
   ],
   "source": [
    "#将Sex转换为数值属性\n",
    "titanic.loc[titanic.Sex==\"male\",\"Sex\"]=1\n",
    "titanic.loc[titanic.Sex==\"female\",\"Sex\"]=0\n",
    "test.loc[test.Sex==\"male\",\"Sex\"]=1\n",
    "test.loc[test.Sex==\"female\",\"Sex\"]=0"
   ]
  },
  {
   "cell_type": "code",
   "execution_count": 25,
   "metadata": {},
   "outputs": [],
   "source": [
    "#将Title转化为数值属性：Title_num\n",
    "titanic[\"Title_num\"]=2\n",
    "test[\"Title_num\"]=2\n",
    "titanic.loc[titanic.Title==\"Dr\",\"Title_num\"]=1\n",
    "titanic.loc[titanic.Title==\"Master\",\"Title_num\"]=1\n",
    "titanic.loc[titanic.Title==\"Girl\",\"Title_num\"]=1\n",
    "titanic.loc[titanic.Title==\"Mrs\",\"Title_num\"]=0\n",
    "titanic.loc[titanic.Title==\"Miss\",\"Title_num\"]=0\n",
    "test.loc[test.Title==\"Dr\",\"Title_num\"]=1\n",
    "test.loc[test.Title==\"Master\",\"Title_num\"]=1\n",
    "test.loc[test.Title==\"Girl\",\"Title_num\"]=1\n",
    "test.loc[test.Title==\"Mrs\",\"Title_num\"]=0\n",
    "test.loc[test.Title==\"Miss\",\"Title_num\"]=0"
   ]
  },
  {
   "cell_type": "code",
   "execution_count": 26,
   "metadata": {},
   "outputs": [
    {
     "data": {
      "text/plain": [
       "<matplotlib.figure.Figure at 0x1b724be2630>"
      ]
     },
     "metadata": {},
     "output_type": "display_data"
    },
    {
     "data": {
      "image/png": "[encoded data removed]",
      "text/plain": [
       "<matplotlib.figure.Figure at 0x1b724a45c88>"
      ]
     },
     "metadata": {},
     "output_type": "display_data"
    }
   ],
   "source": [
    "#观察Age与Survived关系，转化Age属性\n",
    "import numpy as np\n",
    "titanic[\"Age\"]=np.ceil(titanic[\"Age\"]/10.0)\n",
    "test[\"Age\"]=np.ceil(test[\"Age\"]/10.0)\n",
    "\n",
    "#发现Age属性为1或4的获救几率更高\n",
    "plt.figure(1)\n",
    "Survived_0 = titanic.Age[titanic.Survived == 0].value_counts()\n",
    "Survived_1 = titanic.Age[titanic.Survived == 1].value_counts()\n",
    "df=pd.DataFrame({'获救':Survived_1, '未获救':Survived_0})\n",
    "df.plot(kind='bar', stacked=True)\n",
    "plt.show()\n",
    "\n",
    "titanic.loc[titanic.Age==1.0,\"Age\"]=0\n",
    "titanic.loc[titanic.Age==2.0,\"Age\"]=1\n",
    "titanic.loc[titanic.Age==3.0,\"Age\"]=1\n",
    "titanic.loc[titanic.Age==4.0,\"Age\"]=0\n",
    "titanic.loc[titanic.Age==5.0,\"Age\"]=1\n",
    "titanic.loc[titanic.Age==6.0,\"Age\"]=1\n",
    "titanic.loc[titanic.Age==7.0,\"Age\"]=1\n",
    "titanic.loc[titanic.Age==8.0,\"Age\"]=1\n",
    "test.loc[test.Age==1.0,\"Age\"]=0\n",
    "test.loc[test.Age==2.0,\"Age\"]=1\n",
    "test.loc[test.Age==3.0,\"Age\"]=1\n",
    "test.loc[test.Age==4.0,\"Age\"]=0\n",
    "test.loc[test.Age==5.0,\"Age\"]=1\n",
    "test.loc[test.Age==6.0,\"Age\"]=1\n",
    "test.loc[test.Age==7.0,\"Age\"]=1\n",
    "test.loc[test.Age==8.0,\"Age\"]=1"
   ]
  },
  {
   "cell_type": "code",
   "execution_count": 27,
   "metadata": {},
   "outputs": [],
   "source": [
    "#构建新属性PST\n",
    "titanic[\"PST\"]=titanic[\"Pclass\"]+titanic[\"Sex\"]+titanic[\"Title_num\"]+titanic[\"Age\"]\n",
    "test[\"PST\"]=test[\"Pclass\"]+test[\"Sex\"]+test[\"Title_num\"]+titanic[\"Age\"]"
   ]
  },
  {
   "cell_type": "code",
   "execution_count": 28,
   "metadata": {},
   "outputs": [],
   "source": [
    "#检查相关性矩阵，删除与结果相关度不高的特征\n",
    "corr_matrix = titanic.corr()\n",
    "corr_matrix[\"Survived\"].sort_values(ascending=False)\n",
    "titanic.drop([\"PassengerId\",\"SibSp\",\"Name\",\"Ticket\",\"Title\",\"Embarked\",\"Parch\",\"Age\"],axis=1,inplace=True)\n",
    "test.drop([\"PassengerId\",\"SibSp\",\"Name\",\"Ticket\",\"Title\",\"Embarked\",\"Parch\",\"Age\"],axis=1,inplace=True)"
   ]
  },
  {
   "cell_type": "code",
   "execution_count": 30,
   "metadata": {},
   "outputs": [],
   "source": [
    "#补充缺失的Fare\n",
    "from sklearn.preprocessing import Imputer\n",
    "imputer=Imputer()\n",
    "imputer.fit(titanic[[\"Fare\"]])\n",
    "test.loc[(test.Fare.isnull()), 'Fare']=imputer.statistics_[0]"
   ]
  },
  {
   "cell_type": "code",
   "execution_count": 33,
   "metadata": {},
   "outputs": [],
   "source": [
    "#自定义转换器\n",
    "from sklearn.base import BaseEstimator, TransformerMixin\n",
    "class DataFrameSelector(BaseEstimator, TransformerMixin):\n",
    "    def __init__(self, attribute_names):\n",
    "        self.attribute_names = attribute_names\n",
    "    def fit(self, X, y=None):\n",
    "        return self\n",
    "    \n",
    "    def transform(self, X):\n",
    "        return X[self.attribute_names]"
   ]
  },
  {
   "cell_type": "code",
   "execution_count": 34,
   "metadata": {},
   "outputs": [],
   "source": [
    "#定义流水线\n",
    "from sklearn.pipeline import Pipeline\n",
    "from sklearn.preprocessing import StandardScaler\n",
    "\n",
    "num_attribs = [\"Pclass\",\"Sex\",\"Cabin\",\"Title_num\",\"PST\"]\n",
    "std_attribs=[\"Fare\"]\n",
    "\n",
    "\n",
    "num_pipeline = Pipeline([\n",
    "        ('selector', DataFrameSelector(num_attribs)),\n",
    "    ]) \n",
    "\n",
    "std_pipeline = Pipeline([\n",
    "        ('selector', DataFrameSelector(std_attribs)),\n",
    "        (\"standardscaler\",StandardScaler())\n",
    "\n",
    "    ])\n",
    "\n",
    "from sklearn.pipeline import FeatureUnion\n",
    "\n",
    "full_pipeline = FeatureUnion(transformer_list=[\n",
    "        (\"num_pipeline\", num_pipeline),\n",
    "        (\"std_pipeline\", std_pipeline),\n",
    "    ])"
   ]
  },
  {
   "cell_type": "code",
   "execution_count": 35,
   "metadata": {},
   "outputs": [],
   "source": [
    "#使用流水线清理数据\n",
    "full_pipeline.fit(titanic)\n",
    "titanic_prepared = full_pipeline.transform(titanic)\n",
    "test_prepared = full_pipeline.transform(test)"
   ]
  },
  {
   "cell_type": "code",
   "execution_count": 122,
   "metadata": {},
   "outputs": [
    {
     "data": {
      "text/plain": [
       "0.84399551066217737"
      ]
     },
     "execution_count": 122,
     "metadata": {},
     "output_type": "execute_result"
    }
   ],
   "source": [
    "#第一个训练器：xgboost\n",
    "from xgboost import XGBClassifier\n",
    "xgb=XGBClassifier()\n",
    "from sklearn.model_selection import GridSearchCV\n",
    "param_grid = {'min_child_weight':[4,5,6],'learning_rate': [0.1], 'max_depth': [4,5,6],\"gamma\":[0],\n",
    "             \"n_estimators\":[200],\"n_jobs\":[-1],\"subsample\":[0.6],\"colsample_bytree\":[0.5]},\n",
    "xgb=XGBClassifier()\n",
    "grid_search = GridSearchCV(xgb, param_grid, cv=5,scoring=\"accuracy\")\n",
    "grid_search.fit(titanic_prepared,label)\n",
    "test_pred=grid_search.predict(test_prepared)\n",
    "test_pred=np.array(test_pred,dtype=int)\n",
    "y_df=pd.DataFrame(test_pred)\n",
    "grid_search.best_score_"
   ]
  },
  {
   "cell_type": "code",
   "execution_count": 123,
   "metadata": {},
   "outputs": [
    {
     "data": {
      "text/plain": [
       "{'colsample_bytree': 0.5,\n",
       " 'gamma': 0,\n",
       " 'learning_rate': 0.1,\n",
       " 'max_depth': 5,\n",
       " 'min_child_weight': 5,\n",
       " 'n_estimators': 200,\n",
       " 'n_jobs': -1,\n",
       " 'subsample': 0.6}"
      ]
     },
     "execution_count": 123,
     "metadata": {},
     "output_type": "execute_result"
    }
   ],
   "source": [
    "grid_search.best_params_"
   ]
  },
  {
   "cell_type": "code",
   "execution_count": 152,
   "metadata": {},
   "outputs": [
    {
     "data": {
      "text/plain": [
       "0.83501683501683499"
      ]
     },
     "execution_count": 152,
     "metadata": {},
     "output_type": "execute_result"
    }
   ],
   "source": [
    "#第二个训练器：RandomForest\n",
    "from sklearn.ensemble import RandomForestClassifier\n",
    "rfc=RandomForestClassifier()\n",
    "param_grid = {\"max_features\":[4,5,6],\"n_estimators\":[800,700,600,500],\"n_jobs\":[-1],\"max_depth\":[5,6]}\n",
    "grid_search = GridSearchCV(rfc, param_grid, cv=8,scoring=\"accuracy\")\n",
    "grid_search.fit(titanic_prepared,label)\n",
    "test_pred_2=grid_search.predict(test_prepared)\n",
    "test_pred_2=np.array(test_pred_2,dtype=int)\n",
    "y_df_2=pd.DataFrame(test_pred_2)\n",
    "grid_search.best_score_"
   ]
  },
  {
   "cell_type": "code",
   "execution_count": 153,
   "metadata": {},
   "outputs": [
    {
     "data": {
      "text/plain": [
       "{'max_depth': 6, 'max_features': 5, 'n_estimators': 600, 'n_jobs': -1}"
      ]
     },
     "execution_count": 153,
     "metadata": {},
     "output_type": "execute_result"
    }
   ],
   "source": [
    "grid_search.best_params_"
   ]
  },
  {
   "cell_type": "code",
   "execution_count": 154,
   "metadata": {},
   "outputs": [],
   "source": [
    "#处理结果并保存\n",
    "pred=test_pred+test_pred_2\n",
    "pred=np.floor(pred/2)\n",
    "y=pd.DataFrame(pred)\n",
    "y.to_csv('C:\\\\Users\\\\LCL\\\\Desktop\\\\sklearn_tensorflow\\\\kaggle\\\\Projects\\\\Titanic\\\\data_pred.csv')"
   ]
  },
  {
   "cell_type": "code",
   "execution_count": null,
   "metadata": {},
   "outputs": [],
   "source": []
  }
 ],
 "metadata": {
  "kernelspec": {
   "display_name": "Python 3",
   "language": "python",
   "name": "python3"
  },
  "language_info": {
   "codemirror_mode": {
    "name": "ipython",
    "version": 3
   },
   "file_extension": ".py",
   "mimetype": "text/x-python",
   "name": "python",
   "nbconvert_exporter": "python",
   "pygments_lexer": "ipython3",
   "version": "3.5.5"
  }
 },
 "nbformat": 4,
 "nbformat_minor": 2
}
